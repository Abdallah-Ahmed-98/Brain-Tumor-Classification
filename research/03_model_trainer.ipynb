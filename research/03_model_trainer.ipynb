{
 "cells": [
  {
   "cell_type": "code",
   "execution_count": 1,
   "metadata": {},
   "outputs": [],
   "source": [
    "import os"
   ]
  },
  {
   "cell_type": "code",
   "execution_count": 2,
   "metadata": {},
   "outputs": [
    {
     "data": {
      "text/plain": [
       "'d:\\\\DS\\\\Projects\\\\DL\\\\Brain-Tumor-Classification\\\\research'"
      ]
     },
     "execution_count": 2,
     "metadata": {},
     "output_type": "execute_result"
    }
   ],
   "source": [
    "%pwd"
   ]
  },
  {
   "cell_type": "code",
   "execution_count": 3,
   "metadata": {},
   "outputs": [],
   "source": [
    "os.chdir(\"../\")"
   ]
  },
  {
   "cell_type": "code",
   "execution_count": 4,
   "metadata": {},
   "outputs": [
    {
     "data": {
      "text/plain": [
       "'d:\\\\DS\\\\Projects\\\\DL\\\\Brain-Tumor-Classification'"
      ]
     },
     "execution_count": 4,
     "metadata": {},
     "output_type": "execute_result"
    }
   ],
   "source": [
    "%pwd"
   ]
  },
  {
   "cell_type": "code",
   "execution_count": 5,
   "metadata": {},
   "outputs": [],
   "source": [
    "from dataclasses import dataclass\n",
    "from pathlib import Path\n",
    "\n",
    "\n",
    "@dataclass(frozen=True)\n",
    "class TrainingConfig:\n",
    "    root_dir: Path\n",
    "    trained_model_path: Path\n",
    "    updated_base_model_path: Path\n",
    "    training_data: Path\n",
    "    params_epochs: int\n",
    "    params_batch_size: int\n",
    "    params_is_augmentation: bool\n",
    "    params_image_size: list"
   ]
  },
  {
   "cell_type": "code",
   "execution_count": 6,
   "metadata": {},
   "outputs": [],
   "source": [
    "from cnnClassifier.constants import *\n",
    "from cnnClassifier.utils.common import read_yaml, create_directories\n",
    "import tensorflow as tf"
   ]
  },
  {
   "cell_type": "code",
   "execution_count": 7,
   "metadata": {},
   "outputs": [],
   "source": [
    "class ConfigurationManager:\n",
    "    def __init__(\n",
    "        self,\n",
    "        config_filepath = CONFIG_FILE_PATH,\n",
    "        params_filepath = PARAMS_FILE_PATH):\n",
    "\n",
    "        self.config = read_yaml(config_filepath)\n",
    "        self.params = read_yaml(params_filepath)\n",
    "\n",
    "        create_directories([self.config.artifacts_root])\n",
    "\n",
    "        \n",
    "    def get_training_config(self) -> TrainingConfig:\n",
    "        training = self.config.training\n",
    "        prepare_base_model = self.config.prepare_base_model\n",
    "        params = self.params\n",
    "        training_data = os.path.join(self.config.data_ingestion.unzip_dir, self.config.data_ingestion.dataset_name)\n",
    "        \n",
    "        create_directories([\n",
    "            Path(training.root_dir)\n",
    "        ])\n",
    "\n",
    "        training_config = TrainingConfig(\n",
    "            root_dir=Path(training.root_dir),\n",
    "            trained_model_path=Path(training.trained_model_path),\n",
    "            updated_base_model_path=Path(prepare_base_model.updated_base_model_path),\n",
    "            training_data=Path(training_data),\n",
    "            params_epochs=params.EPOCHS,\n",
    "            params_batch_size=params.BATCH_SIZE,\n",
    "            params_is_augmentation=params.AUGMENTATION,\n",
    "            params_image_size=params.IMAGE_SIZE\n",
    "        )\n",
    "\n",
    "        return training_config"
   ]
  },
  {
   "cell_type": "code",
   "execution_count": 8,
   "metadata": {},
   "outputs": [],
   "source": [
    "class Training:\n",
    "    def __init__(self, config: TrainingConfig):\n",
    "        self.config = config\n",
    "\n",
    "    def get_base_model(self):\n",
    "        self.model = tf.keras.models.load_model(\n",
    "            self.config.updated_base_model_path\n",
    "        )\n",
    "\n",
    "    def train_valid_generator(self):\n",
    "        datagenerator_kwargs = dict(\n",
    "            rescale=1.0 / 255,\n",
    "            validation_split=0.20\n",
    "        )\n",
    "\n",
    "        dataflow_kwargs = dict(\n",
    "            target_size=self.config.params_image_size[:-1],\n",
    "            batch_size=self.config.params_batch_size,\n",
    "            interpolation=\"bicubic\"\n",
    "        )\n",
    "\n",
    "        valid_datagenerator = tf.keras.preprocessing.image.ImageDataGenerator(\n",
    "            **datagenerator_kwargs\n",
    "        )\n",
    "\n",
    "        self.valid_generator = valid_datagenerator.flow_from_directory(\n",
    "            directory=self.config.training_data,\n",
    "            subset=\"validation\",\n",
    "            shuffle=False,\n",
    "            **dataflow_kwargs\n",
    "        )\n",
    "\n",
    "        if self.config.params_is_augmentation:\n",
    "            train_datagenerator = tf.keras.preprocessing.image.ImageDataGenerator(\n",
    "                brightness_range=(0.8, 1.2),\n",
    "                **datagenerator_kwargs\n",
    "            )\n",
    "        else:\n",
    "            train_datagenerator = valid_datagenerator\n",
    "\n",
    "        self.train_generator = train_datagenerator.flow_from_directory(\n",
    "            directory=self.config.training_data,\n",
    "            subset=\"training\",\n",
    "            shuffle=True,\n",
    "            **dataflow_kwargs\n",
    "        )\n",
    "\n",
    "    @staticmethod\n",
    "    def save_model(path: Path, model: tf.keras.Model):\n",
    "        model.save(path)\n",
    "\n",
    "    def train(self):\n",
    "        self.steps_per_epoch = self.train_generator.samples // self.train_generator.batch_size\n",
    "        self.validation_steps = self.valid_generator.samples // self.valid_generator.batch_size\n",
    "\n",
    "        # Define the ModelCheckpoint callback\n",
    "        checkpoint_callback = tf.keras.callbacks.ModelCheckpoint(\n",
    "            filepath=self.config.trained_model_path,  # Save the best model here\n",
    "            monitor=\"val_loss\",                      # Monitor validation loss\n",
    "            save_best_only=True,                     # Save only the best model\n",
    "            mode=\"min\",                              # Minimize the validation loss\n",
    "            verbose=1                                # Print a message when saving\n",
    "        )\n",
    "\n",
    "        # Train the model\n",
    "        self.model.fit(\n",
    "            self.train_generator,\n",
    "            epochs=self.config.params_epochs,\n",
    "            steps_per_epoch=self.steps_per_epoch,\n",
    "            validation_steps=self.validation_steps,\n",
    "            validation_data=self.valid_generator,\n",
    "            callbacks=[checkpoint_callback]  # Include the callback\n",
    "        )\n"
   ]
  },
  {
   "cell_type": "code",
   "execution_count": 9,
   "metadata": {},
   "outputs": [
    {
     "name": "stdout",
     "output_type": "stream",
     "text": [
      "[2025-01-05 06:20:16,058: INFO: common: yaml file: config\\config.yaml loaded successfully]\n",
      "[2025-01-05 06:20:16,072: INFO: common: yaml file: params.yaml loaded successfully]\n",
      "[2025-01-05 06:20:16,075: INFO: common: created directory at: artifacts]\n",
      "[2025-01-05 06:20:16,078: INFO: common: created directory at: artifacts\\training]\n",
      "Found 1402 images belonging to 4 classes.\n",
      "Found 5617 images belonging to 4 classes.\n",
      "Epoch 1/10\n",
      "175/175 [==============================] - ETA: 0s - loss: 1.3831 - accuracy: 0.8170 - precision: 0.8356 - recall: 0.8000\n",
      "Epoch 1: val_loss improved from inf to 0.28105, saving model to artifacts\\training\\model.keras\n",
      "175/175 [==============================] - 761s 4s/step - loss: 1.3831 - accuracy: 0.8170 - precision: 0.8356 - recall: 0.8000 - val_loss: 0.2810 - val_accuracy: 0.8983 - val_precision: 0.9150 - val_recall: 0.8765\n",
      "Epoch 2/10\n",
      "175/175 [==============================] - ETA: 0s - loss: 0.2257 - accuracy: 0.9150 - precision: 0.9257 - recall: 0.9038\n",
      "Epoch 2: val_loss improved from 0.28105 to 0.21284, saving model to artifacts\\training\\model.keras\n",
      "175/175 [==============================] - 885s 5s/step - loss: 0.2257 - accuracy: 0.9150 - precision: 0.9257 - recall: 0.9038 - val_loss: 0.2128 - val_accuracy: 0.9201 - val_precision: 0.9235 - val_recall: 0.9128\n",
      "Epoch 3/10\n",
      "175/175 [==============================] - ETA: 0s - loss: 0.1645 - accuracy: 0.9397 - precision: 0.9482 - recall: 0.9338\n",
      "Epoch 3: val_loss improved from 0.21284 to 0.16426, saving model to artifacts\\training\\model.keras\n",
      "175/175 [==============================] - 884s 5s/step - loss: 0.1645 - accuracy: 0.9397 - precision: 0.9482 - recall: 0.9338 - val_loss: 0.1643 - val_accuracy: 0.9375 - val_precision: 0.9421 - val_recall: 0.9346\n",
      "Epoch 4/10\n",
      "175/175 [==============================] - ETA: 0s - loss: 0.1312 - accuracy: 0.9483 - precision: 0.9524 - recall: 0.9457\n",
      "Epoch 4: val_loss improved from 0.16426 to 0.14431, saving model to artifacts\\training\\model.keras\n",
      "175/175 [==============================] - 810s 5s/step - loss: 0.1312 - accuracy: 0.9483 - precision: 0.9524 - recall: 0.9457 - val_loss: 0.1443 - val_accuracy: 0.9440 - val_precision: 0.9454 - val_recall: 0.9433\n",
      "Epoch 5/10\n",
      "175/175 [==============================] - ETA: 0s - loss: 0.0971 - accuracy: 0.9635 - precision: 0.9656 - recall: 0.9610\n",
      "Epoch 5: val_loss improved from 0.14431 to 0.14191, saving model to artifacts\\training\\model.keras\n",
      "175/175 [==============================] - 1033s 6s/step - loss: 0.0971 - accuracy: 0.9635 - precision: 0.9656 - recall: 0.9610 - val_loss: 0.1419 - val_accuracy: 0.9491 - val_precision: 0.9511 - val_recall: 0.9462\n",
      "Epoch 6/10\n",
      "175/175 [==============================] - ETA: 0s - loss: 0.0843 - accuracy: 0.9719 - precision: 0.9735 - recall: 0.9679\n",
      "Epoch 6: val_loss improved from 0.14191 to 0.11044, saving model to artifacts\\training\\model.keras\n",
      "175/175 [==============================] - 997s 6s/step - loss: 0.0843 - accuracy: 0.9719 - precision: 0.9735 - recall: 0.9679 - val_loss: 0.1104 - val_accuracy: 0.9586 - val_precision: 0.9599 - val_recall: 0.9564\n",
      "Epoch 7/10\n",
      "175/175 [==============================] - ETA: 0s - loss: 0.0691 - accuracy: 0.9739 - precision: 0.9768 - recall: 0.9717\n",
      "Epoch 7: val_loss did not improve from 0.11044\n",
      "175/175 [==============================] - 977s 6s/step - loss: 0.0691 - accuracy: 0.9739 - precision: 0.9768 - recall: 0.9717 - val_loss: 0.1108 - val_accuracy: 0.9622 - val_precision: 0.9636 - val_recall: 0.9615\n",
      "Epoch 8/10\n",
      "175/175 [==============================] - ETA: 0s - loss: 0.0671 - accuracy: 0.9753 - precision: 0.9773 - recall: 0.9731\n",
      "Epoch 8: val_loss did not improve from 0.11044\n",
      "175/175 [==============================] - 1023s 6s/step - loss: 0.0671 - accuracy: 0.9753 - precision: 0.9773 - recall: 0.9731 - val_loss: 0.1343 - val_accuracy: 0.9557 - val_precision: 0.9562 - val_recall: 0.9520\n",
      "Epoch 9/10\n",
      "175/175 [==============================] - ETA: 0s - loss: 0.0540 - accuracy: 0.9808 - precision: 0.9820 - recall: 0.9796\n",
      "Epoch 9: val_loss did not improve from 0.11044\n",
      "175/175 [==============================] - 969s 6s/step - loss: 0.0540 - accuracy: 0.9808 - precision: 0.9820 - recall: 0.9796 - val_loss: 0.1245 - val_accuracy: 0.9571 - val_precision: 0.9578 - val_recall: 0.9557\n",
      "Epoch 10/10\n",
      "175/175 [==============================] - ETA: 0s - loss: 0.0516 - accuracy: 0.9817 - precision: 0.9826 - recall: 0.9807\n",
      "Epoch 10: val_loss improved from 0.11044 to 0.10674, saving model to artifacts\\training\\model.keras\n",
      "175/175 [==============================] - 1018s 6s/step - loss: 0.0516 - accuracy: 0.9817 - precision: 0.9826 - recall: 0.9807 - val_loss: 0.1067 - val_accuracy: 0.9658 - val_precision: 0.9665 - val_recall: 0.9637\n"
     ]
    }
   ],
   "source": [
    "try:\n",
    "    config = ConfigurationManager()\n",
    "    training_config = config.get_training_config()\n",
    "    training = Training(config=training_config)\n",
    "    training.get_base_model()\n",
    "    training.train_valid_generator()\n",
    "    training.train()\n",
    "    \n",
    "except Exception as e:\n",
    "    raise e"
   ]
  }
 ],
 "metadata": {
  "kernelspec": {
   "display_name": "BTCls",
   "language": "python",
   "name": "python3"
  },
  "language_info": {
   "codemirror_mode": {
    "name": "ipython",
    "version": 3
   },
   "file_extension": ".py",
   "mimetype": "text/x-python",
   "name": "python",
   "nbconvert_exporter": "python",
   "pygments_lexer": "ipython3",
   "version": "3.10.16"
  }
 },
 "nbformat": 4,
 "nbformat_minor": 2
}
